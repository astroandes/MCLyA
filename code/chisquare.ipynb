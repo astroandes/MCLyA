{
 "cells": [
  {
   "cell_type": "code",
   "execution_count": 1,
   "metadata": {
    "collapsed": false
   },
   "outputs": [
    {
     "name": "stdout",
     "output_type": "stream",
     "text": [
      "Populating the interactive namespace from numpy and matplotlib\n"
     ]
    }
   ],
   "source": [
    "%pylab inline"
   ]
  },
  {
   "cell_type": "code",
   "execution_count": 2,
   "metadata": {
    "collapsed": true
   },
   "outputs": [],
   "source": [
    "def chi_square(model , obs):\n",
    "    chi_square = (1.0/2.0)*sum((obs - model)**2)\n",
    "    return chi_square"
   ]
  },
  {
   "cell_type": "code",
   "execution_count": 9,
   "metadata": {
    "collapsed": false
   },
   "outputs": [
    {
     "data": {
      "text/plain": [
       "[<matplotlib.lines.Line2D at 0x7f34233ea450>]"
      ]
     },
     "execution_count": 9,
     "metadata": {},
     "output_type": "execute_result"
    },
    {
     "data": {
      "image/png": "[encoded data removed]",
      "text/plain": [
       "<matplotlib.figure.Figure at 0x7f34234fa290>"
      ]
     },
     "metadata": {},
     "output_type": "display_data"
    }
   ],
   "source": [
    "model = loadtxt(\"../../rotation-lya-data/homogeneous/Sphere_V0_T1E5_0_10000KHOM_out.dat\")\n",
    "model2 = loadtxt(\"../../rotation-lya-data/homogeneous/Sphere_V0_T1E5_0_20000KHOM_out.dat\")\n",
    "tol = loadtxt(\"../data/obs/tol.txt\")\n",
    "plot(model[:,0]*5, model[:,1]/10.)\n",
    "#plot(model2[:,0], model2[:,1])\n",
    "plot(tol[:,0], tol[:,1])"
   ]
  },
  {
   "cell_type": "code",
   "execution_count": 11,
   "metadata": {
    "collapsed": false
   },
   "outputs": [
    {
     "name": "stdout",
     "output_type": "stream",
     "text": [
      "(62, 2)\n",
      "(40, 2)\n"
     ]
    }
   ],
   "source": [
    "print shape(tol)\n",
    "print shape(model)"
   ]
  },
  {
   "cell_type": "code",
   "execution_count": null,
   "metadata": {
    "collapsed": true
   },
   "outputs": [],
   "source": [
    "f = interp1d(x_m, y_m, kind=\"linear\")\n",
    "x_m_new = x_d\n",
    "y_m_new = f(x_d)"
   ]
  }
 ],
 "metadata": {
  "kernelspec": {
   "display_name": "Python 2",
   "language": "python",
   "name": "python2"
  },
  "language_info": {
   "codemirror_mode": {
    "name": "ipython",
    "version": 2
   },
   "file_extension": ".py",
   "mimetype": "text/x-python",
   "name": "python",
   "nbconvert_exporter": "python",
   "pygments_lexer": "ipython2",
   "version": "2.7.6"
  }
 },
 "nbformat": 4,
 "nbformat_minor": 0
}
