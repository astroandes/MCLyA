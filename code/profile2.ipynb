{
 "cells": [
  {
   "cell_type": "code",
   "execution_count": 19,
   "metadata": {
    "collapsed": false
   },
   "outputs": [],
   "source": [
    "import numpy as np\n",
    "import matplotlib.pyplot as plt\n",
    "import scipy.integrate as integrate\n",
    "\n",
    "%matplotlib inline"
   ]
  },
  {
   "cell_type": "code",
   "execution_count": 70,
   "metadata": {
    "collapsed": true
   },
   "outputs": [],
   "source": [
    "def I_pr(r, alpha=0.48, b=3.3, q=0.92):\n",
    "    \"\"\"\n",
    "    from FRICKE et al (2001)\n",
    "    \"\"\"\n",
    "    \n",
    "    P = (r/(b*alpha))**3 + (r/alpha * (1.0-q)/q)\n",
    "    I = np.exp(-r/alpha) * (1.0 - q*np.exp(-P))\n",
    "    return I*r"
   ]
  },
  {
   "cell_type": "code",
   "execution_count": 77,
   "metadata": {
    "collapsed": false
   },
   "outputs": [],
   "source": [
    "r = np.linspace(0, 10, 1000) # kpc\n",
    "I_r = I_pr(r)"
   ]
  },
  {
   "cell_type": "code",
   "execution_count": 72,
   "metadata": {
    "collapsed": false
   },
   "outputs": [
    {
     "data": {
      "text/plain": [
       "[<matplotlib.lines.Line2D at 0x7f60cad344d0>]"
      ]
     },
     "execution_count": 72,
     "metadata": {},
     "output_type": "execute_result"
    },
    {
     "data": {
      "image/png": "[encoded data removed]",
      "text/plain": [
       "<matplotlib.figure.Figure at 0x7f60cadf3290>"
      ]
     },
     "metadata": {},
     "output_type": "display_data"
    }
   ],
   "source": [
    "plt.plot(r, I_r)"
   ]
  },
  {
   "cell_type": "markdown",
   "metadata": {},
   "source": [
    "Computing the effective radius $r_e$:\n",
    "    \n"
   ]
  },
  {
   "cell_type": "code",
   "execution_count": 78,
   "metadata": {
    "collapsed": false
   },
   "outputs": [],
   "source": [
    "Itotal = integrate.quad(I_pr, 0, np.inf)\n",
    "r_e=np.linspace(0.5, 3.0, 10000)\n",
    "Ihalf = integrate.quad(I_pr, 0, r_e[0])\n",
    "i=0\n",
    "\n",
    "while Ihalf[0] <= 0.5*Itotal[0]:\n",
    "    Ihalf = integrate.quad(I_pr, 0, r_e[i])\n",
    "    i+=1"
   ]
  },
  {
   "cell_type": "code",
   "execution_count": 84,
   "metadata": {
    "collapsed": false
   },
   "outputs": [
    {
     "name": "stdout",
     "output_type": "stream",
     "text": [
      "1.30808080808\n"
     ]
    }
   ],
   "source": [
    "print(r_e[i-1]) # kpc"
   ]
  },
  {
   "cell_type": "code",
   "execution_count": 80,
   "metadata": {
    "collapsed": false
   },
   "outputs": [
    {
     "name": "stdout",
     "output_type": "stream",
     "text": [
      "82.7829675495\n"
     ]
    }
   ],
   "source": [
    "L_B = 8.9E8 # L_sun /  pc^2\n",
    "I_B = L_B/(2.0*np.pi*r_e[i-1]**2.0*1E6)\n",
    "\n",
    "print(I_B)"
   ]
  },
  {
   "cell_type": "code",
   "execution_count": 87,
   "metadata": {
    "collapsed": false
   },
   "outputs": [
    {
     "name": "stdout",
     "output_type": "stream",
     "text": [
      "0.943168015606\n",
      "8.77340172291\n",
      "7.06742859426\n"
     ]
    }
   ],
   "source": [
    "log_sigma = (np.log10(I_B) + 1.21*np.log10(r_e[i-1])-0.55)/1.6# Numbers for band V here assuming the same for band B\n",
    "sigma = 10**(log_sigma)\n",
    "M_dyn = 1.16E9 * (sigma/100.0)**2 * r_e[i-1] \n",
    "\n",
    "print(log_sigma)\n",
    "print(sigma) #km/s\n",
    "print(np.log10(M_dyn)) # <- does this make sense? The observed stellar mass is 1.5E8Msun "
   ]
  },
  {
   "cell_type": "code",
   "execution_count": null,
   "metadata": {
    "collapsed": true
   },
   "outputs": [],
   "source": []
  }
 ],
 "metadata": {
  "kernelspec": {
   "display_name": "Python 2",
   "language": "python",
   "name": "python2"
  },
  "language_info": {
   "codemirror_mode": {
    "name": "ipython",
    "version": 2
   },
   "file_extension": ".py",
   "mimetype": "text/x-python",
   "name": "python",
   "nbconvert_exporter": "python",
   "pygments_lexer": "ipython2",
   "version": "2.7.6"
  }
 },
 "nbformat": 4,
 "nbformat_minor": 0
}
