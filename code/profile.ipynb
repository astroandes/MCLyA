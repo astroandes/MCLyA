{
 "cells": [
  {
   "cell_type": "code",
   "execution_count": 1,
   "metadata": {
    "collapsed": true
   },
   "outputs": [],
   "source": [
    "import numpy as np\n",
    "import matplotlib.pyplot as plt\n",
    "from scipy import integrate\n",
    "%matplotlib inline"
   ]
  },
  {
   "cell_type": "code",
   "execution_count": 2,
   "metadata": {
    "collapsed": true
   },
   "outputs": [],
   "source": [
    "def profile(alpha=0.53, b=3.3, q=0.92):\n",
    "    \"\"\"\n",
    "    This definition comes from Noeske et al 2003:\n",
    "    \n",
    "    New insights to the photometric structure of Blue Compact Dwarf\n",
    "    galaxies from deep Near-Infrared studies\n",
    "    I. Observations, surface photometry and decomposition\n",
    "    of surface brightness profiles.\n",
    "    \n",
    "    Default parameters correspond to Tol 1214-277 in the J-band.\n",
    "    \n",
    "    Profile corresponds to Eq (6) and Eq. (7)\n",
    "    \n",
    "    Alpha comes in kpc.\n",
    "    \"\"\"\n",
    "    r = np.linspace(0.0, alpha*10.0, 100)\n",
    "    I = np.exp(-r/alpha)\n",
    "    P = (r/(b*alpha))**3 + (r/alpha * (1.0-q)/q)\n",
    "    I = I * (1.0 - q*np.exp(-P))\n",
    "    I_int = integrate.cumtrapz(I*r,r, initial=0) # integrate total I = \\int I r dr.\n",
    "    return r, I/I_int[-1]"
   ]
  },
  {
   "cell_type": "code",
   "execution_count": 3,
   "metadata": {
    "collapsed": false
   },
   "outputs": [
    {
     "data": {
      "text/plain": [
       "[<matplotlib.lines.Line2D at 0x7f8546d07750>]"
      ]
     },
     "execution_count": 3,
     "metadata": {},
     "output_type": "execute_result"
    },
    {
     "data": {
      "image/png": "[encoded data removed]",
      "text/plain": [
       "<matplotlib.figure.Figure at 0x7f8546d56390>"
      ]
     },
     "metadata": {},
     "output_type": "display_data"
    }
   ],
   "source": [
    "r, I = profile()\n",
    "plt.plot(r,I)"
   ]
  },
  {
   "cell_type": "code",
   "execution_count": 5,
   "metadata": {
    "collapsed": false
   },
   "outputs": [
    {
     "data": {
      "text/plain": [
       "[<matplotlib.lines.Line2D at 0x7f8546b46050>]"
      ]
     },
     "execution_count": 5,
     "metadata": {},
     "output_type": "execute_result"
    },
    {
     "data": {
      "image/png": "[encoded data removed]",
      "text/plain": [
       "<matplotlib.figure.Figure at 0x7f8546b9bb10>"
      ]
     },
     "metadata": {},
     "output_type": "display_data"
    }
   ],
   "source": [
    "plt.plot(r,np.log10(I))"
   ]
  },
  {
   "cell_type": "code",
   "execution_count": 6,
   "metadata": {
    "collapsed": false
   },
   "outputs": [],
   "source": [
    "I_int = integrate.cumtrapz(I*r,r, initial=0)"
   ]
  },
  {
   "cell_type": "code",
   "execution_count": 7,
   "metadata": {
    "collapsed": false
   },
   "outputs": [
    {
     "data": {
      "text/plain": [
       "[<matplotlib.lines.Line2D at 0x7f8546a785d0>]"
      ]
     },
     "execution_count": 7,
     "metadata": {},
     "output_type": "execute_result"
    },
    {
     "data": {
      "image/png": "[encoded data removed]",
      "text/plain": [
       "<matplotlib.figure.Figure at 0x7f8546adfa10>"
      ]
     },
     "metadata": {},
     "output_type": "display_data"
    }
   ],
   "source": [
    "plt.plot(r,I_int)"
   ]
  },
  {
   "cell_type": "code",
   "execution_count": 8,
   "metadata": {
    "collapsed": false
   },
   "outputs": [
    {
     "name": "stdout",
     "output_type": "stream",
     "text": [
      "1.44545454545\n"
     ]
    }
   ],
   "source": [
    "#this is the radius tha containts half of the total luminosity\n",
    "id_half = np.argmin(np.abs(I_int - 0.5))\n",
    "R_half = r[id_half]\n",
    "print  R_half"
   ]
  },
  {
   "cell_type": "code",
   "execution_count": 9,
   "metadata": {
    "collapsed": false
   },
   "outputs": [
    {
     "name": "stdout",
     "output_type": "stream",
     "text": [
      "R 1.44545454545\n",
      "log I 1.55529295039\n",
      "log R 0.160004439162\n",
      "log L 8.97451169274\n",
      "log sigma 0.749311451111\n",
      "sigma 5.6145047179\n",
      "log10 Mdyn 6.72308533061\n"
     ]
    }
   ],
   "source": [
    "L = 9.43E8 #UV bol lumgalex # 8.9E8 in V band\n",
    "alpha = 0.53 # kpc scale radius from noeske\n",
    "R = R_half  # half light radius from integrated lum profile\n",
    "I = L/(4.0* np.pi * R * 1E3 * R * 1E3) # in Lsun/pc^2\n",
    "print 'R {}'.format(R)\n",
    "print 'log I {}'.format(np.log10(I))\n",
    "print 'log R {}'.format(np.log10(R))\n",
    "print 'log L {}'.format(np.log10(L))\n",
    "log_sigma = (np.log10(I) + 1.21*np.log10(R)-0.55)/1.6\n",
    "sigma = 10**(log_sigma)\n",
    "M_dyn = 1.16E9 * (sigma/100.0)**2 * R\n",
    "print 'log sigma {}'.format(log_sigma)\n",
    "print 'sigma {}'.format(sigma)\n",
    "print 'log10 Mdyn {}'.format(np.log10(M_dyn))\n"
   ]
  }
 ],
 "metadata": {
  "kernelspec": {
   "display_name": "Python 2",
   "language": "python",
   "name": "python2"
  },
  "language_info": {
   "codemirror_mode": {
    "name": "ipython",
    "version": 2
   },
   "file_extension": ".py",
   "mimetype": "text/x-python",
   "name": "python",
   "nbconvert_exporter": "python",
   "pygments_lexer": "ipython2",
   "version": "2.7.6"
  }
 },
 "nbformat": 4,
 "nbformat_minor": 0
}
