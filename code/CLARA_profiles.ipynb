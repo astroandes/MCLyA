{
 "cells": [
  {
   "cell_type": "code",
   "execution_count": 3,
   "metadata": {
    "collapsed": false
   },
   "outputs": [
    {
     "name": "stdout",
     "output_type": "stream",
     "text": [
      "Populating the interactive namespace from numpy and matplotlib\n"
     ]
    }
   ],
   "source": [
    "%pylab inline\n",
    "import os"
   ]
  },
  {
   "cell_type": "code",
   "execution_count": 7,
   "metadata": {
    "collapsed": true
   },
   "outputs": [],
   "source": [
    "def set_ticklabels(ax, size=18):\n",
    "    ticklabels_x = ax.get_xticklabels()\n",
    "    ticklabels_y = ax.get_yticklabels()\n",
    "\n",
    "    for label_x in ticklabels_x:\n",
    "        label_x.set_fontsize(size)\n",
    "        label_x.set_family('serif')\n",
    "    for label_y in ticklabels_y:\n",
    "        label_y.set_fontsize(size)\n",
    "        label_y.set_family('serif')"
   ]
  },
  {
   "cell_type": "code",
   "execution_count": 86,
   "metadata": {
    "collapsed": false
   },
   "outputs": [],
   "source": [
    "def plot_comparison(v_max=300, view_angle=0, logT=4.0, logtau=6.0):\n",
    "    filename_in=\"../data/CLARA/Rotating%dSphere%dt.ascii\"%(v_max, int(logtau))\n",
    "    filename_out =\"../data/tmp/Sphere_V%d_T2E7_%d_out.dat\"%(v_max,view_angle)\n",
    "    filename_obs = \"../data/obs/tol.txt\"\n",
    "    command = \"python viewing_angle.py %s %s %d > %s\"%(filename_obs, filename_in, view_angle, filename_out)\n",
    "    print command\n",
    "\n",
    " #   os.system(command)\n",
    "    data = np.loadtxt(filename_out)\n",
    "    tol = np.loadtxt(filename_obs)\n",
    "    voff = 39.2342980263\n",
    "    \n",
    "    v_th = 12.85*sqrt((10.0**logT)/(10.0**4.0))\n",
    "    binT = tol[1,0]-tol[0,0]\n",
    "    binC = 12.85*(data[1,1] - data[0,1])\n",
    "\n",
    "    vel_theory = -data[:,1]*v_th + voff\n",
    "    intensity_theory = data[:,0]\n",
    "    vel_obs = tol[:,0]\n",
    "    intensity_obs = tol[:,1]\n",
    "    \n",
    "    norm_theory = fabs(trapz(intensity_theory, vel_theory))\n",
    "    norm_obs = fabs(trapz(intensity_obs, vel_obs))\n",
    "    \n",
    "    intensity_theory = intensity_theory/norm_theory\n",
    "    intensity_obs = intensity_obs/norm_obs\n",
    "    \n",
    "    #fig, ax = pyplot.subplots(figsize=(8, 8))\n",
    "    fig = plt.figure(1, figsize=(11,10))\n",
    "    ax = plt.axes()\n",
    "    set_ticklabels(ax, size=35)\n",
    "    plt.plot(vel_theory/100, intensity_theory*1E3,\n",
    "            label=r\"$\\theta = %d, V_{rot}=%d\\ \\mathrm{km\\ s}^{-1}, \\tau=10^%d$\"%(view_angle,v_max,logtau),\n",
    "           linewidth=4,alpha=0.5)\n",
    "    plt.plot(vel_obs/100, intensity_obs*1E3)\n",
    "    plt.scatter(vel_obs/100, intensity_obs*1E3, label=r\"$\\mathrm{Tololo}$\",s=50.0)\n",
    "    plt.legend(loc=1, prop={'size':28},scatterpoints=1)\n",
    "    ax.set_xlim([-12.0, 12.0])\n",
    "    ax.set_ylim([0.0, 1.6])\n",
    "    ax.grid(True)\n",
    "\n",
    "    plt.xlabel(r\"$v \\mathrm{[100\\ km\\ s^{-1}]}$\", fontsize=40)\n",
    "    plt.ylabel(r\"$\\mathrm{Intensity\\ [arbitrary\\ units]}$\", fontsize=40)\n",
    "    plt.savefig(\"../figs/CLARA-TOL_%d_%d.pdf\"%(view_angle, v_max), bbox_inches='tight')\n",
    "    plt.close(fig)\n",
    "    return "
   ]
  },
  {
   "cell_type": "code",
   "execution_count": 87,
   "metadata": {
    "collapsed": false
   },
   "outputs": [
    {
     "name": "stdout",
     "output_type": "stream",
     "text": [
      "python viewing_angle.py ../data/obs/tol.txt ../data/CLARA/Rotating300Sphere7t.ascii 20 > ../data/tmp/Sphere_V300_T2E7_20_out.dat\n",
      "python viewing_angle.py ../data/obs/tol.txt ../data/CLARA/Rotating300Sphere7t.ascii 25 > ../data/tmp/Sphere_V300_T2E7_25_out.dat\n"
     ]
    }
   ],
   "source": [
    "v_list = [300]\n",
    "angle_list = [20,25]\n",
    "for v in v_list:\n",
    "    for a in angle_list:\n",
    "        plot_comparison(v_max=v, view_angle=a, logT=4.2, logtau=7)"
   ]
  },
  {
   "cell_type": "code",
   "execution_count": null,
   "metadata": {
    "collapsed": true
   },
   "outputs": [],
   "source": []
  },
  {
   "cell_type": "code",
   "execution_count": null,
   "metadata": {
    "collapsed": true
   },
   "outputs": [],
   "source": []
  }
 ],
 "metadata": {
  "kernelspec": {
   "display_name": "Python 2",
   "language": "python",
   "name": "python2"
  },
  "language_info": {
   "codemirror_mode": {
    "name": "ipython",
    "version": 2
   },
   "file_extension": ".py",
   "mimetype": "text/x-python",
   "name": "python",
   "nbconvert_exporter": "python",
   "pygments_lexer": "ipython2",
   "version": "2.7.6"
  }
 },
 "nbformat": 4,
 "nbformat_minor": 0
}
